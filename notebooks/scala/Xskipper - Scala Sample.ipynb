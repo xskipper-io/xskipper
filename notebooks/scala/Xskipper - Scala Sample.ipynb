{
 "cells": [
  {
   "cell_type": "markdown",
   "metadata": {
    "collapsed": true
   },
   "source": [
    "# Xskipper -  Extensible Data Skipping Framework for Apache Spark"
   ]
  },
  {
   "cell_type": "markdown",
   "metadata": {},
   "source": [
    "In this notebook, we demonstrate using Xskipper Scala API.\n",
    "\n",
    "Data skipping can significantly boost the performance of SQL queries by skipping over irrelevant data objects or files based on a summary metadata associated with each object.  \n",
    "For every column in the object, the summary metadata might include minimum and maximum values, a list or bloom filter of the appearing values, or other metadata which succinctly represents the data in that column. This metadata is used during query evaluation to skip over objects which have no relevant data.\n",
    "\n",
    "To use this feature, you need to create indexes on one or more columns of the data set. After this is done, Spark SQL queries can benefit from data skipping. In general, you should index the columns which are queried most often in the WHERE clause.\n",
    "\n",
    "Note that all Spark native data formats are supported, including Parquet, ORC, CSV, JSON and Avro. Data skipping is a performance optimization feature which means that using data skipping does not affect the content of the query results."
   ]
  },
  {
   "cell_type": "markdown",
   "metadata": {},
   "source": [
    "## Table of Contents\n",
    "\n",
    "- [Setup](#setup)\n",
    "- [Indexing a Dataset](#indexing_dataset)\n",
    "- [Index Usage](#using)\n",
    "- [Index Life Cycle](#index_life_cycle)\n",
    "- [Working with Hive Tables](#hive_tables)"
   ]
  },
  {
   "cell_type": "markdown",
   "metadata": {},
   "source": [
    "## Setup <a id='setup'></a>"
   ]
  },
  {
   "cell_type": "markdown",
   "metadata": {},
   "source": [
    "First you need to make sure you include the data skipping rule in the spark session creation by setting the following parameter:\n",
    "```\n",
    "spark.sql.extensions=io.xskipper.utils.RuleExtension\n",
    "```\n",
    "\n",
    "In this example, we will set the JVM wide parameter to a base path to store all of the indexes.  \n",
    "The metadata can be stored on the same storage system as the data however, not under the same path.\n",
    "\n",
    "In the following examples we will use [IBM Cloud Object Storage](https://www.ibm.com/il-en/cloud/object-storage) to store both the data and the metadata.  \n",
    "(The cells below assume the credentials were already set, for more information about setting credentials when using IBM Cloud Object Storage see [Stocator Storage Connector](https://github.com/CODAIT/stocator).\n",
    "\n",
    "During query time the metdata for the dataset will be looked up in this location\n",
    "\n",
    "For more configuration options, see [Data skipping configuration options](https://xskipper.io/api/configuration/configuration/)."
   ]
  },
  {
   "cell_type": "code",
   "execution_count": null,
   "metadata": {},
   "outputs": [
    {
     "ename": "Compile Error",
     "evalue": "<console>:25: error: object xskipper is not a member of package io\n       import io.xskipper._\n                 ^\n<console>:29: error: not found: value bucket\n       val md_base_location = s\"cos://${bucket}.service/metadata\"\n                                        ^\n<console>:34: error: not found: value md_base_path\n         \"io.xskipper.parquet.mdlocation\" -> md_base_path,\n                                             ^\n<console>:39: error: not found: value Xskipper\n       Xskipper.setConf(conf)\n       ^\n",
     "output_type": "error",
     "traceback": []
    }
   ],
   "source": [
    "import io.xskipper._\n",
    "import io.xskipper.implicits._\n",
    "\n",
    "// The base location to store all metadata\n",
    "// TODO: change to your metadata location\n",
    "val md_base_location = s\"cos://${bucket}.service/metadata\"\n",
    "\n",
    "// Configuring the JVM wide parameters \n",
    "// in addition configure the identifier class for IBM Cloud Object Storage\n",
    "val conf = Map(\n",
    "  \"io.xskipper.parquet.mdlocation\" -> md_base_location,\n",
    "  \"io.xskipper.parquet.mdlocation.type\" -> \"EXPLICIT_BASE_PATH_LOCATION\",\n",
    "  \"io.xskipper.identifierclass\" -> \"io.xskipper.utils.identifier.IBMCOSIdentifier\")\n",
    "Xskipper.setConf(conf)"
   ]
  },
  {
   "cell_type": "markdown",
   "metadata": {},
   "source": [
    "## Indexing a dataset <a id='indexing_dataset'></a>"
   ]
  },
  {
   "cell_type": "markdown",
   "metadata": {},
   "source": [
    "###  Creating a sample Dataset <a id='sample_dataset'></a>\n",
    "\n",
    "First, let's create a sample dataset that will be used throught this sample."
   ]
  },
  {
   "cell_type": "code",
   "execution_count": 4,
   "metadata": {},
   "outputs": [
    {
     "name": "stdout",
     "output_type": "stream",
     "text": [
      "+----+---------+---+----------+\n",
      "|temp|city     |vid|dt        |\n",
      "+----+---------+---+----------+\n",
      "|30.0|Jerusalem|b  |2017-07-08|\n",
      "|20.0|Tel-Aviv |a  |2017-07-07|\n",
      "+----+---------+---+----------+\n",
      "\n"
     ]
    }
   ],
   "source": [
    "import org.apache.spark.sql.Row\n",
    "import org.apache.spark.sql.types.{DoubleType, StringType, StructField, StructType}\n",
    "\n",
    "// TODO: change to your data location\n",
    "val dataset_location = s\"cos://${bucket}.service/data\"\n",
    "\n",
    "val schema = List(\n",
    "  StructField(\"dt\", StringType, true),\n",
    "  StructField(\"temp\", DoubleType, true),\n",
    "  StructField(\"city\", StringType, true),\n",
    "  StructField(\"vid\", StringType, true)\n",
    ")\n",
    "\n",
    "val data = Seq(\n",
    "  Row(\"2017-07-07\", 20.0, \"Tel-Aviv\", \"a\"),\n",
    "  Row(\"2017-07-08\", 30.0, \"Jerusalem\", \"b\")\n",
    ")\n",
    "\n",
    "val ds = spark.createDataFrame(\n",
    "  spark.sparkContext.parallelize(data),\n",
    "  StructType(schema)\n",
    ")\n",
    "\n",
    "// use partitionBy to make sure we have two objects\n",
    "ds.write.partitionBy(\"dt\").mode(\"overwrite\").parquet(dataset_location)\n",
    "\n",
    "// read the dataset back from storage\n",
    "val reader = spark.read.format(\"parquet\")\n",
    "val df = reader.load(dataset_location)\n",
    "df.show(false)"
   ]
  },
  {
   "cell_type": "markdown",
   "metadata": {},
   "source": [
    "### Indexing <a id='indexing'></a>"
   ]
  },
  {
   "cell_type": "markdown",
   "metadata": {},
   "source": [
    "When creating a data skipping index on a data set, first decide which columns to index, then choose an index type for each column. These choices are workload and data dependent. Typically, choose columns to which predicates are applied in many queries.\n",
    "\n",
    "The following index types are supported out of the box:\n",
    "\n",
    "1. Min/max – stores the minimum and maximum values for a column. Applies to all types except complex types.\n",
    "2. Value list – stores the list of values appearing in a column. Applies to all types except complex types.\n",
    "3. Bloom Filter – stores bloom filter. Applies to ByteType, StringType, LongType, IntegerType, and ShortType.\n",
    "\n",
    "- Choose value list if the number of distinct values in an object is typically much smaller than the total number of values in that object\n",
    "- Bloom filters are recommended for columns with high cardinality. (otherwise the index can get as big as that column in the data set).\n",
    "\n",
    "Xskipper also enables to create your own data skipping indexes and specify how to use them during query time. For more details see [here](https://xskipper-io.github.io/xskipper/api/creating-new-plugin/)"
   ]
  },
  {
   "cell_type": "code",
   "execution_count": 5,
   "metadata": {},
   "outputs": [
    {
     "name": "stdout",
     "output_type": "stream",
     "text": [
      "+-------+-----------------+-------------------+\n",
      "|status |new_entries_added|old_entries_removed|\n",
      "+-------+-----------------+-------------------+\n",
      "|SUCCESS|2                |0                  |\n",
      "+-------+-----------------+-------------------+\n",
      "\n"
     ]
    }
   ],
   "source": [
    "// create Xskipper instance for the sample dataset\n",
    "val xskipper = new Xskipper(spark, dataset_location)\n",
    "\n",
    "// remove existing index if needed\n",
    "if (xskipper.isIndexed()) {\n",
    "  xskipper.dropIndex()\n",
    "}\n",
    "\n",
    "xskipper.indexBuilder()\n",
    "        .addMinMaxIndex(\"temp\")\n",
    "        .addValueListIndex(\"city\")\n",
    "        .addBloomFilterIndex(\"vid\")\n",
    "        .build(reader)\n",
    "        .show(false)"
   ]
  },
  {
   "cell_type": "markdown",
   "metadata": {},
   "source": [
    "### View the created index status\n",
    "\n",
    "The following code shows how a user can view current index status to check which indexes exist on the dataset and whether the index is up-to-date"
   ]
  },
  {
   "cell_type": "code",
   "execution_count": 6,
   "metadata": {},
   "outputs": [
    {
     "name": "stdout",
     "output_type": "stream",
     "text": [
      "+-------------------------+---------------------------------------------------------+--------------------+\n",
      "|Data Skipping Index Stats|cos://guyx27snotebooks-donotdelete-pr-kczcce0t0nsznp/data|             Comment|\n",
      "+-------------------------+---------------------------------------------------------+--------------------+\n",
      "|                   Status|                                               Up to date|                    |\n",
      "|     Total objects ind...|                                                        2|                    |\n",
      "|     # Metadata proper...|                                                         |                    |\n",
      "|        Metadata location|                                     cos://guyx27snote...|                    |\n",
      "|      # Index information|                                                         |                    |\n",
      "|             # Index type|                                                  Columns|              Params|\n",
      "|                   minmax|                                                     temp|                    |\n",
      "|                valuelist|                                                     city|                    |\n",
      "|              bloomfilter|                                                      vid|io.xskipper.index...|\n",
      "+-------------------------+---------------------------------------------------------+--------------------+\n",
      "\n"
     ]
    }
   ],
   "source": [
    "// Describe the index\n",
    "xskipper.describeIndex(reader).show(false)"
   ]
  },
  {
   "cell_type": "markdown",
   "metadata": {},
   "source": [
    "### List Indexed datasets\n",
    "\n",
    "The following code shows how a user can view all indexed dataset under the current base location"
   ]
  },
  {
   "cell_type": "code",
   "execution_count": 7,
   "metadata": {},
   "outputs": [
    {
     "name": "stdout",
     "output_type": "stream",
     "text": [
      "+---------------------------------------------------------+---------------------------------------------------------------------+-------------+\n",
      "|Dataset                                                  |Index type                                                           |Index columns|\n",
      "+---------------------------------------------------------+---------------------------------------------------------------------+-------------+\n",
      "|# Metadatastore Manager parameters                       |                                                                     |             |\n",
      "|Metadata base path                                       |cos://guyx27snotebooks-donotdelete-pr-kczcce0t0nsznp.service/metadata|             |\n",
      "|cos://guyx27snotebooks-donotdelete-pr-kczcce0t0nsznp/data|minmax                                                               |temp         |\n",
      "|                                                         |valuelist                                                            |city         |\n",
      "|                                                         |bloomfilter                                                          |vid          |\n",
      "+---------------------------------------------------------+---------------------------------------------------------------------+-------------+\n",
      "\n"
     ]
    }
   ],
   "source": [
    "Xskipper.listIndexes(spark).show(false)"
   ]
  },
  {
   "cell_type": "markdown",
   "metadata": {},
   "source": [
    "## Using the Data Skipping Indexes<a id='using'></a>"
   ]
  },
  {
   "cell_type": "markdown",
   "metadata": {},
   "source": [
    "### Enable/Disable Xskipper<a id='enable_disable'></a>\n",
    "\n",
    "Xskipper provides APIs to enable or disable index usage with Spark.\n",
    "\n",
    "By using \"enable\" command, Xskipper optimization rules become visible to the Apache Spark optimizer and will be used in query optimization and execution.\\\n",
    "By using \"disable' command, Xskipper optimization rules no longer apply during query optimization. Note that disabling Xskipper has no impact on created indexes as they remain intact."
   ]
  },
  {
   "cell_type": "code",
   "execution_count": 8,
   "metadata": {},
   "outputs": [],
   "source": [
    "// Enable Xskipper\n",
    "spark.enableXskipper()\n",
    "\n",
    "// Disable Xskipper\n",
    "spark.disableXskipper()\n",
    "\n",
    "// You can use the following to check whether the Xskipper is enabled\n",
    "if (!spark.isXskipperEnabled()) {\n",
    "    spark.enableXskipper()\n",
    "}"
   ]
  },
  {
   "cell_type": "markdown",
   "metadata": {},
   "source": [
    "## Running Queries<a id='run_queries_dataset'></a>\n",
    "\n",
    "Once Xskipper has been enabled you can continue running queries (using either SQL or DataFrame API) regularly and enjoy data skipping."
   ]
  },
  {
   "cell_type": "markdown",
   "metadata": {},
   "source": [
    "Create a temporary view on the dataset"
   ]
  },
  {
   "cell_type": "code",
   "execution_count": 9,
   "metadata": {},
   "outputs": [],
   "source": [
    "df.createOrReplaceTempView(\"sample\")"
   ]
  },
  {
   "cell_type": "markdown",
   "metadata": {},
   "source": [
    "### Example query using Min/max index"
   ]
  },
  {
   "cell_type": "code",
   "execution_count": 10,
   "metadata": {},
   "outputs": [
    {
     "name": "stdout",
     "output_type": "stream",
     "text": [
      "+----+--------+---+----------+\n",
      "|temp|    city|vid|        dt|\n",
      "+----+--------+---+----------+\n",
      "|20.0|Tel-Aviv|  a|2017-07-07|\n",
      "+----+--------+---+----------+\n",
      "\n"
     ]
    }
   ],
   "source": [
    "spark.sql(\"select * from sample where temp < 30\").show()"
   ]
  },
  {
   "cell_type": "markdown",
   "metadata": {},
   "source": [
    "##### Inspecting query skipping stats\n",
    "You can inspect the data skipping statistics for the latest query using the following API:"
   ]
  },
  {
   "cell_type": "code",
   "execution_count": 11,
   "metadata": {},
   "outputs": [
    {
     "name": "stdout",
     "output_type": "stream",
     "text": [
      "+-------+-----------+-------------+------------+-----------+----------+\n",
      "|status |isSkippable|skipped_Bytes|skipped_Objs|total_Bytes|total_Objs|\n",
      "+-------+-----------+-------------+------------+-----------+----------+\n",
      "|SUCCESS|true       |903          |1           |1797       |2         |\n",
      "+-------+-----------+-------------+------------+-----------+----------+\n",
      "\n"
     ]
    }
   ],
   "source": [
    "Xskipper.getLatestQueryAggregatedStats(spark).show(false)"
   ]
  },
  {
   "cell_type": "markdown",
   "metadata": {},
   "source": [
    "Note: The above returns the accumulated data skipping statistics for all of the datasets which were involved in the query\\\n",
    "\n",
    "If you want to inspect the stats for a specific dataset you can call the API getting stats on the Xskipper instance:"
   ]
  },
  {
   "cell_type": "code",
   "execution_count": 12,
   "metadata": {},
   "outputs": [
    {
     "name": "stdout",
     "output_type": "stream",
     "text": [
      "+-------+-----------+-------------+------------+-----------+----------+\n",
      "|status |isSkippable|skipped_Bytes|skipped_Objs|total_Bytes|total_Objs|\n",
      "+-------+-----------+-------------+------------+-----------+----------+\n",
      "|SUCCESS|true       |903          |1           |1797       |2         |\n",
      "+-------+-----------+-------------+------------+-----------+----------+\n",
      "\n"
     ]
    }
   ],
   "source": [
    "xskipper.getLatestQueryStats().show(false)"
   ]
  },
  {
   "cell_type": "markdown",
   "metadata": {},
   "source": [
    "##### Clearing the stats before running the next query\n",
    "\n",
    "The data skipping stats are accumulated stats of all dataset readings since the last time `clearStats` or `reset` was called.\\\n",
    "Here we clear the stats after each query to get the data skipping stats for each query separately. "
   ]
  },
  {
   "cell_type": "code",
   "execution_count": 13,
   "metadata": {},
   "outputs": [],
   "source": [
    "Xskipper.clearStats()"
   ]
  },
  {
   "cell_type": "markdown",
   "metadata": {},
   "source": [
    "### Example query using Value list index"
   ]
  },
  {
   "cell_type": "code",
   "execution_count": 14,
   "metadata": {},
   "outputs": [
    {
     "name": "stdout",
     "output_type": "stream",
     "text": [
      "+----+---------+---+----------+\n",
      "|temp|     city|vid|        dt|\n",
      "+----+---------+---+----------+\n",
      "|30.0|Jerusalem|  b|2017-07-08|\n",
      "+----+---------+---+----------+\n",
      "\n"
     ]
    }
   ],
   "source": [
    "spark.sql(\"select * from sample where city IN ('Jerusalem', 'Ramat-Gan')\").show()"
   ]
  },
  {
   "cell_type": "markdown",
   "metadata": {},
   "source": [
    "#### Inspecting query stats"
   ]
  },
  {
   "cell_type": "code",
   "execution_count": 15,
   "metadata": {},
   "outputs": [
    {
     "name": "stdout",
     "output_type": "stream",
     "text": [
      "+-------+-----------+-------------+------------+-----------+----------+\n",
      "|status |isSkippable|skipped_Bytes|skipped_Objs|total_Bytes|total_Objs|\n",
      "+-------+-----------+-------------+------------+-----------+----------+\n",
      "|SUCCESS|true       |894          |1           |1797       |2         |\n",
      "+-------+-----------+-------------+------------+-----------+----------+\n",
      "\n"
     ]
    }
   ],
   "source": [
    "Xskipper.getLatestQueryAggregatedStats(spark).show(false)"
   ]
  },
  {
   "cell_type": "markdown",
   "metadata": {},
   "source": [
    "##### Clearing the stats before running the next query"
   ]
  },
  {
   "cell_type": "code",
   "execution_count": 16,
   "metadata": {},
   "outputs": [],
   "source": [
    "Xskipper.clearStats()"
   ]
  },
  {
   "cell_type": "markdown",
   "metadata": {},
   "source": [
    "### Example Query using Bloom filter index"
   ]
  },
  {
   "cell_type": "code",
   "execution_count": 17,
   "metadata": {},
   "outputs": [
    {
     "name": "stdout",
     "output_type": "stream",
     "text": [
      "+----+--------+---+----------+\n",
      "|temp|    city|vid|        dt|\n",
      "+----+--------+---+----------+\n",
      "|20.0|Tel-Aviv|  a|2017-07-07|\n",
      "+----+--------+---+----------+\n",
      "\n"
     ]
    }
   ],
   "source": [
    "spark.sql(\"select * from sample where vid = 'a'\").show()"
   ]
  },
  {
   "cell_type": "markdown",
   "metadata": {},
   "source": [
    "#### Inspecting query stats"
   ]
  },
  {
   "cell_type": "code",
   "execution_count": 18,
   "metadata": {},
   "outputs": [
    {
     "name": "stdout",
     "output_type": "stream",
     "text": [
      "+-------+-----------+-------------+------------+-----------+----------+\n",
      "|status |isSkippable|skipped_Bytes|skipped_Objs|total_Bytes|total_Objs|\n",
      "+-------+-----------+-------------+------------+-----------+----------+\n",
      "|SUCCESS|true       |903          |1           |1797       |2         |\n",
      "+-------+-----------+-------------+------------+-----------+----------+\n",
      "\n"
     ]
    }
   ],
   "source": [
    "Xskipper.getLatestQueryAggregatedStats(spark).show(false)"
   ]
  },
  {
   "cell_type": "markdown",
   "metadata": {},
   "source": [
    "##### Clearing the stats before running the next query"
   ]
  },
  {
   "cell_type": "code",
   "execution_count": 19,
   "metadata": {},
   "outputs": [],
   "source": [
    "Xskipper.clearStats()"
   ]
  },
  {
   "cell_type": "markdown",
   "metadata": {},
   "source": [
    "## Index Life Cycle<a id='index_life_cycle'></a>\n",
    "\n",
    "The following operations can be used in order to maintain the index"
   ]
  },
  {
   "cell_type": "markdown",
   "metadata": {},
   "source": [
    "### Refresh Index\n",
    "\n",
    "Overtime the index might get stale in case new files are added/removed/modified from the dataset.\\\n",
    "In order to bring the index up-to-date you can call the refresh operation which will index the new/modified files and remove obsolete metadata.\n",
    "\n",
    "Note: The index will still be useful for files which didn't change since the last indexing time even without refershing."
   ]
  },
  {
   "cell_type": "code",
   "execution_count": 20,
   "metadata": {},
   "outputs": [],
   "source": [
    "val update_data = Seq(\n",
    "  Row(\"2017-07-09\", 25.0, \"Beer-Sheva\", \"c\")\n",
    ")\n",
    "\n",
    "val update_ds = spark.createDataFrame(\n",
    "  spark.sparkContext.parallelize(update_data),\n",
    "  StructType(schema)\n",
    ")\n",
    "\n",
    "// append to the existing dataset\n",
    "update_ds.write.partitionBy(\"dt\").mode(\"append\").parquet(dataset_location)"
   ]
  },
  {
   "cell_type": "markdown",
   "metadata": {},
   "source": [
    "Inspecting index status:"
   ]
  },
  {
   "cell_type": "code",
   "execution_count": 21,
   "metadata": {},
   "outputs": [
    {
     "name": "stdout",
     "output_type": "stream",
     "text": [
      "+--------------------------+--------------------------------------------------------------------------------------------------------------------------------------+---------------------------------------------------------------------------+\n",
      "|Data Skipping Index Stats |cos://guyx27snotebooks-donotdelete-pr-kczcce0t0nsznp/data                                                                             |Comment                                                                    |\n",
      "+--------------------------+--------------------------------------------------------------------------------------------------------------------------------------+---------------------------------------------------------------------------+\n",
      "|Status                    |Out of date - please use REFRESH operation to update the index                                                                        |                                                                           |\n",
      "|Total new/modified objects|33% of the objects\n",
      "         (1 of 3)                                                                                                  |                                                                           |\n",
      "|Total objects indexed     |2                                                                                                                                     |                                                                           |\n",
      "|# Metadata properties     |                                                                                                                                      |                                                                           |\n",
      "|Metadata location         |cos://guyx27snotebooks-donotdelete-pr-kczcce0t0nsznp.service/metadata/dddbdf9e4f6cbf274232fa18b35e5d4dab7f4b33830a4158a314c6203a2463f6|                                                                           |\n",
      "|# Index information       |                                                                                                                                      |                                                                           |\n",
      "|# Index type              |Columns                                                                                                                               |Params                                                                     |\n",
      "|minmax                    |temp                                                                                                                                  |                                                                           |\n",
      "|valuelist                 |city                                                                                                                                  |                                                                           |\n",
      "|bloomfilter               |vid                                                                                                                                   |io.xskipper.index.bloom.fpp -> 0.01 ; io.xskipper.index.bloom.ndv -> 100000|\n",
      "+--------------------------+--------------------------------------------------------------------------------------------------------------------------------------+---------------------------------------------------------------------------+\n",
      "\n"
     ]
    }
   ],
   "source": [
    "xskipper.describeIndex(reader).show(false)"
   ]
  },
  {
   "cell_type": "markdown",
   "metadata": {},
   "source": [
    "as you can see there is one new object which is not indexed therefore we will call the refresh operation:"
   ]
  },
  {
   "cell_type": "code",
   "execution_count": 22,
   "metadata": {},
   "outputs": [
    {
     "name": "stdout",
     "output_type": "stream",
     "text": [
      "+-------+-----------------+-------------------+\n",
      "|status |new_entries_added|old_entries_removed|\n",
      "+-------+-----------------+-------------------+\n",
      "|SUCCESS|1                |0                  |\n",
      "+-------+-----------------+-------------------+\n",
      "\n"
     ]
    }
   ],
   "source": [
    "xskipper.refreshIndex(reader).show(false)"
   ]
  },
  {
   "cell_type": "markdown",
   "metadata": {},
   "source": [
    "Inspecting index status following the refresh:"
   ]
  },
  {
   "cell_type": "code",
   "execution_count": 23,
   "metadata": {},
   "outputs": [
    {
     "name": "stdout",
     "output_type": "stream",
     "text": [
      "+-------------------------+--------------------------------------------------------------------------------------------------------------------------------------+---------------------------------------------------------------------------+\n",
      "|Data Skipping Index Stats|cos://guyx27snotebooks-donotdelete-pr-kczcce0t0nsznp/data                                                                             |Comment                                                                    |\n",
      "+-------------------------+--------------------------------------------------------------------------------------------------------------------------------------+---------------------------------------------------------------------------+\n",
      "|Status                   |Up to date                                                                                                                            |                                                                           |\n",
      "|Total objects indexed    |3                                                                                                                                     |                                                                           |\n",
      "|# Metadata properties    |                                                                                                                                      |                                                                           |\n",
      "|Metadata location        |cos://guyx27snotebooks-donotdelete-pr-kczcce0t0nsznp.service/metadata/dddbdf9e4f6cbf274232fa18b35e5d4dab7f4b33830a4158a314c6203a2463f6|                                                                           |\n",
      "|# Index information      |                                                                                                                                      |                                                                           |\n",
      "|# Index type             |Columns                                                                                                                               |Params                                                                     |\n",
      "|minmax                   |temp                                                                                                                                  |                                                                           |\n",
      "|valuelist                |city                                                                                                                                  |                                                                           |\n",
      "|bloomfilter              |vid                                                                                                                                   |io.xskipper.index.bloom.fpp -> 0.01 ; io.xskipper.index.bloom.ndv -> 100000|\n",
      "+-------------------------+--------------------------------------------------------------------------------------------------------------------------------------+---------------------------------------------------------------------------+\n",
      "\n"
     ]
    }
   ],
   "source": [
    "xskipper.describeIndex(reader).show(false)"
   ]
  },
  {
   "cell_type": "markdown",
   "metadata": {},
   "source": [
    "### Drop Index\n",
    "\n",
    "In order to drop the index use the following API call:"
   ]
  },
  {
   "cell_type": "code",
   "execution_count": 24,
   "metadata": {},
   "outputs": [],
   "source": [
    "xskipper.dropIndex()"
   ]
  },
  {
   "cell_type": "markdown",
   "metadata": {},
   "source": [
    "## Working with Hive table<a id='hive_tables'></a>\n",
    "\n",
    "Xskipper also supports skipping over hive tables.\n",
    "\n",
    "The API for working with hive tables is similar to the API presented above with 2 major differences:\n",
    "1. The `uri` used in the Xskipper constructor is the table identifier in the form: `<db>.<table>`.\n",
    "2. The API calls do not require a `DataFrameReader`.\n",
    "\n",
    "For more info regarding the API see [here]()\n",
    "\n",
    "The metadata location for a hive table is resolved according to the following:\n",
    "1. If the table contains the parameter `io.xskipper.parquet.mdlocation` the value will be used as the metadata location\n",
    "2. Else, xskipper will look up the parameter `io.xskipper.parquet.mdlocation` in the table's database and will used it as the base metadata location for all tables.\n",
    "\n",
    "Note: During indexing the index location parameter can be automatically added to the table properties if the xskipper instance is configured accordingly.  \n",
    "For more info regarding the metadata location configuration see [here]().\n",
    "\n",
    "In this example we will set the base location in the database."
   ]
  },
  {
   "cell_type": "markdown",
   "metadata": {},
   "source": [
    "### Setting the base metadata location in the database"
   ]
  },
  {
   "cell_type": "code",
   "execution_count": 25,
   "metadata": {},
   "outputs": [
    {
     "data": {
      "text/plain": [
       "DataFrame[]"
      ]
     },
     "execution_count": 25,
     "metadata": {},
     "output_type": "execute_result"
    }
   ],
   "source": [
    "val alter_db_ddl = s\"ALTER DATABASE default SET DBPROPERTIES ('io.xskipper.parquet.mdlocation'='${md_base_location}')\"\n",
    "spark.sql(alter_db_ddl)"
   ]
  },
  {
   "cell_type": "markdown",
   "metadata": {},
   "source": [
    "### Creating a sample Hive Table"
   ]
  },
  {
   "cell_type": "markdown",
   "metadata": {},
   "source": [
    "Create the table"
   ]
  },
  {
   "cell_type": "code",
   "execution_count": 26,
   "metadata": {},
   "outputs": [
    {
     "data": {
      "text/plain": [
       "DataFrame[]"
      ]
     },
     "execution_count": 26,
     "metadata": {},
     "output_type": "execute_result"
    }
   ],
   "source": [
    "val create_table_ddl =\n",
    "      s\"\"\"CREATE TABLE IF NOT EXISTS tbl (\n",
    "         |temp Double,\n",
    "         |city String,\n",
    "         |vid String,\n",
    "         |dt String\n",
    "         |)\n",
    "         |USING PARQUET\n",
    "         |PARTITIONED BY (dt)\n",
    "         |LOCATION '${dataset_location}'\n",
    "         |\"\"\".stripMargin\n",
    "spark.sql(create_table_ddl)"
   ]
  },
  {
   "cell_type": "markdown",
   "metadata": {},
   "source": [
    "Recover the table partitions"
   ]
  },
  {
   "cell_type": "code",
   "execution_count": 27,
   "metadata": {},
   "outputs": [
    {
     "data": {
      "text/plain": [
       "DataFrame[]"
      ]
     },
     "execution_count": 27,
     "metadata": {},
     "output_type": "execute_result"
    }
   ],
   "source": [
    "spark.sql(\"ALTER TABLE tbl RECOVER PARTITIONS\")"
   ]
  },
  {
   "cell_type": "markdown",
   "metadata": {},
   "source": [
    "verify the table was created"
   ]
  },
  {
   "cell_type": "code",
   "execution_count": 28,
   "metadata": {},
   "outputs": [
    {
     "name": "stdout",
     "output_type": "stream",
     "text": [
      "+--------+---------+-----------+\n",
      "|database|tableName|isTemporary|\n",
      "+--------+---------+-----------+\n",
      "|default |tbl      |false      |\n",
      "|        |sample   |true       |\n",
      "+--------+---------+-----------+\n",
      "\n",
      "+-------------+\n",
      "|partition    |\n",
      "+-------------+\n",
      "|dt=2017-07-07|\n",
      "|dt=2017-07-08|\n",
      "|dt=2017-07-09|\n",
      "+-------------+\n",
      "\n"
     ]
    }
   ],
   "source": [
    "spark.sql(\"show tables\").show(false)\n",
    "spark.sql(\"show partitions tbl\").show(false)"
   ]
  },
  {
   "cell_type": "markdown",
   "metadata": {},
   "source": [
    "### Indexing a Hive Table\n",
    "\n",
    "notice we use `default.sample` as the uri in the Xskipper constructor"
   ]
  },
  {
   "cell_type": "code",
   "execution_count": 29,
   "metadata": {},
   "outputs": [
    {
     "name": "stdout",
     "output_type": "stream",
     "text": [
      "+-------+-----------------+-------------------+\n",
      "|status |new_entries_added|old_entries_removed|\n",
      "+-------+-----------------+-------------------+\n",
      "|SUCCESS|3                |0                  |\n",
      "+-------+-----------------+-------------------+\n",
      "\n"
     ]
    }
   ],
   "source": [
    "// create Xskipper instance for the sample Hive Table\n",
    "val xskipper_hive = new Xskipper(spark, \"default.tbl\")\n",
    "\n",
    "// remove existing index if needed\n",
    "if (xskipper_hive.isIndexed()) {\n",
    "  xskipper_hive.dropIndex()\n",
    "}\n",
    "\n",
    "xskipper_hive.indexBuilder()\n",
    "        .addMinMaxIndex(\"temp\")\n",
    "        .addValueListIndex(\"city\")\n",
    "        .addBloomFilterIndex(\"vid\")\n",
    "        .build()\n",
    "        .show(false)"
   ]
  },
  {
   "cell_type": "markdown",
   "metadata": {},
   "source": [
    "### View the created index status\n",
    "\n",
    "The following code shows how a user can view current index status to check which indexes exist on the dataset and whether the index is up-to-date"
   ]
  },
  {
   "cell_type": "code",
   "execution_count": 30,
   "metadata": {},
   "outputs": [
    {
     "name": "stdout",
     "output_type": "stream",
     "text": [
      "+-------------------------+--------------------------------------------------------------------------------------------------------------------------------------+---------------------------------------------------------------------------+\n",
      "|Data Skipping Index Stats|default.tbl                                                                                                                           |Comment                                                                    |\n",
      "+-------------------------+--------------------------------------------------------------------------------------------------------------------------------------+---------------------------------------------------------------------------+\n",
      "|Status                   |Up to date                                                                                                                            |                                                                           |\n",
      "|Total objects indexed    |3                                                                                                                                     |                                                                           |\n",
      "|# Metadata properties    |                                                                                                                                      |                                                                           |\n",
      "|Metadata location        |cos://guyx27snotebooks-donotdelete-pr-kczcce0t0nsznp.service/metadata/990b4d195857e280dd03b8f703a176b7beadc1a8077ac985e9a4e18ff24de6bc|                                                                           |\n",
      "|# Index information      |                                                                                                                                      |                                                                           |\n",
      "|# Index type             |Columns                                                                                                                               |Params                                                                     |\n",
      "|minmax                   |temp                                                                                                                                  |                                                                           |\n",
      "|valuelist                |city                                                                                                                                  |                                                                           |\n",
      "|bloomfilter              |vid                                                                                                                                   |io.xskipper.index.bloom.fpp -> 0.01 ; io.xskipper.index.bloom.ndv -> 100000|\n",
      "+-------------------------+--------------------------------------------------------------------------------------------------------------------------------------+---------------------------------------------------------------------------+\n",
      "\n"
     ]
    }
   ],
   "source": [
    "xskipper_hive.describeIndex().show(false)"
   ]
  },
  {
   "cell_type": "markdown",
   "metadata": {},
   "source": [
    "### Enable/Disable Xskipper\n",
    "\n",
    "Make sure Xskipper is enabled"
   ]
  },
  {
   "cell_type": "code",
   "execution_count": 32,
   "metadata": {},
   "outputs": [],
   "source": [
    "// You can use the following to check whether the Xskipper is enabled\n",
    "if (!spark.isXskipperEnabled()) {\n",
    "    spark.enableXskipper()\n",
    "}"
   ]
  },
  {
   "cell_type": "markdown",
   "metadata": {},
   "source": [
    "## Running Queries\n",
    "\n",
    "Once Xskipper has been enabled you can continue running queries (using either SQL or DataFrame API) regularly and enjoy data skipping."
   ]
  },
  {
   "cell_type": "markdown",
   "metadata": {},
   "source": [
    "### Example query using Min/max index"
   ]
  },
  {
   "cell_type": "code",
   "execution_count": 33,
   "metadata": {},
   "outputs": [
    {
     "name": "stdout",
     "output_type": "stream",
     "text": [
      "+----+----------+---+----------+\n",
      "|temp|city      |vid|dt        |\n",
      "+----+----------+---+----------+\n",
      "|25.0|Beer-Sheva|c  |2017-07-09|\n",
      "|20.0|Tel-Aviv  |a  |2017-07-07|\n",
      "+----+----------+---+----------+\n",
      "\n"
     ]
    }
   ],
   "source": [
    "spark.sql(\"select * from tbl where temp < 30\").show(false)"
   ]
  },
  {
   "cell_type": "markdown",
   "metadata": {},
   "source": [
    "##### Inspecting query skipping stats\n",
    "You can inspect the data skipping statistics for the latest query using the following API:"
   ]
  },
  {
   "cell_type": "code",
   "execution_count": 34,
   "metadata": {},
   "outputs": [
    {
     "name": "stdout",
     "output_type": "stream",
     "text": [
      "+-------+-----------+-------------+------------+-----------+----------+\n",
      "|status |isSkippable|skipped_Bytes|skipped_Objs|total_Bytes|total_Objs|\n",
      "+-------+-----------+-------------+------------+-----------+----------+\n",
      "|SUCCESS|true       |903          |1           |2709       |3         |\n",
      "+-------+-----------+-------------+------------+-----------+----------+\n",
      "\n"
     ]
    }
   ],
   "source": [
    "Xskipper.getLatestQueryAggregatedStats(spark).show(false)"
   ]
  },
  {
   "cell_type": "markdown",
   "metadata": {},
   "source": [
    "## Index Life Cycle\n",
    "\n",
    "The following operations can be used in order to maintain the index"
   ]
  },
  {
   "cell_type": "markdown",
   "metadata": {},
   "source": [
    "### Refresh Index on Hive Table"
   ]
  },
  {
   "cell_type": "code",
   "execution_count": 36,
   "metadata": {},
   "outputs": [
    {
     "name": "stdout",
     "output_type": "stream",
     "text": [
      "+-------+-----------------+-------------------+\n",
      "|status |new_entries_added|old_entries_removed|\n",
      "+-------+-----------------+-------------------+\n",
      "|SUCCESS|0                |0                  |\n",
      "+-------+-----------------+-------------------+\n",
      "\n"
     ]
    }
   ],
   "source": [
    "xskipper_hive.refreshIndex().show(false)"
   ]
  },
  {
   "cell_type": "markdown",
   "metadata": {},
   "source": [
    "### Drop Index\n",
    "\n",
    "In order to drop the index use the following API call:\n",
    "(Dropping the index will also remove the index location from the table properties)"
   ]
  },
  {
   "cell_type": "code",
   "execution_count": 37,
   "metadata": {},
   "outputs": [],
   "source": [
    "xskipper_hive.dropIndex()"
   ]
  }
 ],
 "metadata": {
  "kernelspec": {
   "display_name": "Scala 2.12 with Spark",
   "language": "scala",
   "name": "scala"
  },
  "language_info": {
   "codemirror_mode": "text/x-scala",
   "file_extension": ".scala",
   "mimetype": "text/x-scala",
   "name": "scala",
   "pygments_lexer": "scala",
   "version": "2.12.12"
  }
 },
 "nbformat": 4,
 "nbformat_minor": 1
}
